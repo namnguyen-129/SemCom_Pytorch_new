{
 "cells": [
  {
   "cell_type": "code",
   "execution_count": 1,
   "metadata": {},
   "outputs": [],
   "source": [
    "import torch\n",
    "import torch.nn as nn\n",
    "from PIL import Image\n",
    "from torchvision import transforms\n",
    "import os\n",
    "import sys\n",
    "os.chdir('../')\n",
    "sys.path.append('./')\n",
    "os.getcwd()\n",
    "from utils.misc_utils import get_psnr, image_normalization\n",
    "from models.djsccn import DJSCCN_CIFAR\n",
    "import matplotlib.pyplot as plt\n",
    "import matplotlib\n",
    "from tensorboard.backend.event_processing import event_accumulator, event_multiplexer\n",
    "import pandas as pd"
   ]
  },
  {
   "cell_type": "markdown",
   "metadata": {},
   "source": [
    "### For SNR"
   ]
  },
  {
   "cell_type": "code",
   "execution_count": 2,
   "metadata": {},
   "outputs": [],
   "source": [
    "log_dir = './out/eval/'\n",
    "ea = event_multiplexer.EventMultiplexer().AddRunsFromDirectory(log_dir)"
   ]
  },
  {
   "cell_type": "code",
   "execution_count": 3,
   "metadata": {},
   "outputs": [
    {
     "name": "stdout",
     "output_type": "stream",
     "text": [
      "<tensorboard.backend.event_processing.event_multiplexer.EventMultiplexer object at 0x00000122F1CB44F0>\n"
     ]
    }
   ],
   "source": [
    "print(ea)"
   ]
  },
  {
   "cell_type": "code",
   "execution_count": null,
   "metadata": {},
   "outputs": [],
   "source": [
    "def plot_snr(dataset_name, ratio, ea, channel, alpha = 1):\n",
    "        \n",
    "    ratio_float = \"{:.2f}\".format(eval(ratio))\n",
    "    log_dir = './out/eval/'\n",
    "    tag = 'psnr'\n",
    "    ea = event_multiplexer.EventMultiplexer().AddRunsFromDirectory(log_dir)\n",
    "    ea.Reload()\n",
    "    markers = ['o', 's', 'D', '|', '*', '1']\n",
    "    index = 0\n",
    "    plt.figure(figsize=(7.5,6))\n",
    "    for run in sorted(ea.Runs().keys(), key=lambda x: float(x.split('_')[1])):\n",
    "        if (dataset_name or dataset_name.upper() in run.split('_')) and (ratio_float in run.split('_')) and (channel in run.split('_') or channel.upper() in run.split('_')):\n",
    "            snr = int(float((run.split('_')[1])))\n",
    "            print(snr)\n",
    "            sc = ea.Scalars(run, tag)\n",
    "            df = pd.Series(data=[s.value for s in sc], index=[s.step for s in sc])\n",
    "            smooth = df.ewm(alpha = alpha).mean()\n",
    "\n",
    "            plt.plot([s for s in smooth.index], [s for s in smooth.values], label=r'Deep JSCC(${\\text{SNR}_{\\text{train}}}$)'+'={}dB'.format(snr),linewidth=1.8,\n",
    "                                marker = markers[index], markerfacecolor = 'None', markersize = 10 if markers[index]=='|' else 6, markeredgewidth = 2.1, markevery = 4)\n",
    "                \n",
    "            # plt.plot([s for s in smooth.index][::15], [s for s in smooth.values][::15], linestyle = 'None',\n",
    "            #         marker = markers[index], color = line[0].get_color(), markerfacecolor = 'None', markersize=8, markeredgewidth = 1.5)\n",
    "            index += 1\n",
    "            \n",
    "            \n",
    "            \n",
    "    plt.legend(prop={'size': 13})\n",
    "        \n",
    "\n",
    "    plt.xlabel(r'$\\text{SNR}_\\text{test} (dB)$',fontsize = 14) \n",
    "    plt.ylabel('PSNR (dB)',fontsize = 14)\n",
    "    plt.title('PSNR in {}, ratio = {}, on {} channel type'.format(dataset_name.upper(), ratio, channel),fontsize = 14)\n",
    "    # plt.title('Test Accuracy in ' + dataset_name.upper())\n",
    "    plt.xlim(-1, 26)\n",
    "    plt.xticks(fontsize = 14)\n",
    "    plt.yticks(fontsize = 14)\n",
    "    plt.grid()\n",
    "    plt.show()"
   ]
  },
  {
   "cell_type": "code",
   "execution_count": 8,
   "metadata": {},
   "outputs": [
    {
     "name": "stdout",
     "output_type": "stream",
     "text": [
      "10\n",
      "10\n",
      "10\n",
      "10\n",
      "10\n",
      "10\n",
      "10\n"
     ]
    },
    {
     "ename": "IndexError",
     "evalue": "list index out of range",
     "output_type": "error",
     "traceback": [
      "\u001b[1;31m---------------------------------------------------------------------------\u001b[0m",
      "\u001b[1;31mIndexError\u001b[0m                                Traceback (most recent call last)",
      "Cell \u001b[1;32mIn[8], line 4\u001b[0m\n\u001b[0;32m      2\u001b[0m ratio \u001b[38;5;241m=\u001b[39m\u001b[38;5;124m'\u001b[39m\u001b[38;5;124m1 / 12\u001b[39m\u001b[38;5;124m'\u001b[39m\n\u001b[0;32m      3\u001b[0m channel \u001b[38;5;241m=\u001b[39m \u001b[38;5;124m'\u001b[39m\u001b[38;5;124mAWGN\u001b[39m\u001b[38;5;124m'\u001b[39m\n\u001b[1;32m----> 4\u001b[0m \u001b[43mplot_snr\u001b[49m\u001b[43m(\u001b[49m\u001b[43mdataset_name\u001b[49m\u001b[43m,\u001b[49m\u001b[43m \u001b[49m\u001b[43mratio\u001b[49m\u001b[43m,\u001b[49m\u001b[43m \u001b[49m\u001b[43mea\u001b[49m\u001b[43m,\u001b[49m\u001b[43m \u001b[49m\u001b[43mchannel\u001b[49m\u001b[43m)\u001b[49m\n",
      "Cell \u001b[1;32mIn[7], line 22\u001b[0m, in \u001b[0;36mplot_snr\u001b[1;34m(dataset_name, ratio, ea, channel, alpha)\u001b[0m\n\u001b[0;32m     18\u001b[0m df \u001b[38;5;241m=\u001b[39m pd\u001b[38;5;241m.\u001b[39mSeries(data\u001b[38;5;241m=\u001b[39m[s\u001b[38;5;241m.\u001b[39mvalue \u001b[38;5;28;01mfor\u001b[39;00m s \u001b[38;5;129;01min\u001b[39;00m sc], index\u001b[38;5;241m=\u001b[39m[s\u001b[38;5;241m.\u001b[39mstep \u001b[38;5;28;01mfor\u001b[39;00m s \u001b[38;5;129;01min\u001b[39;00m sc])\n\u001b[0;32m     19\u001b[0m smooth \u001b[38;5;241m=\u001b[39m df\u001b[38;5;241m.\u001b[39mewm(alpha \u001b[38;5;241m=\u001b[39m alpha)\u001b[38;5;241m.\u001b[39mmean()\n\u001b[0;32m     21\u001b[0m plt\u001b[38;5;241m.\u001b[39mplot([s \u001b[38;5;28;01mfor\u001b[39;00m s \u001b[38;5;129;01min\u001b[39;00m smooth\u001b[38;5;241m.\u001b[39mindex], [s \u001b[38;5;28;01mfor\u001b[39;00m s \u001b[38;5;129;01min\u001b[39;00m smooth\u001b[38;5;241m.\u001b[39mvalues], label\u001b[38;5;241m=\u001b[39m\u001b[38;5;124mr\u001b[39m\u001b[38;5;124m'\u001b[39m\u001b[38;5;124mDeep JSCC($\u001b[39m\u001b[38;5;124m{\u001b[39m\u001b[38;5;124m\\\u001b[39m\u001b[38;5;124mtext\u001b[39m\u001b[38;5;132;01m{SNR}\u001b[39;00m\u001b[38;5;124m_\u001b[39m\u001b[38;5;124m{\u001b[39m\u001b[38;5;124m\\\u001b[39m\u001b[38;5;124mtext\u001b[39m\u001b[38;5;132;01m{train}\u001b[39;00m\u001b[38;5;124m}}$)\u001b[39m\u001b[38;5;124m'\u001b[39m\u001b[38;5;241m+\u001b[39m\u001b[38;5;124m'\u001b[39m\u001b[38;5;124m=\u001b[39m\u001b[38;5;132;01m{}\u001b[39;00m\u001b[38;5;124mdB\u001b[39m\u001b[38;5;124m'\u001b[39m\u001b[38;5;241m.\u001b[39mformat(snr),linewidth\u001b[38;5;241m=\u001b[39m\u001b[38;5;241m1.8\u001b[39m,\n\u001b[1;32m---> 22\u001b[0m                     marker \u001b[38;5;241m=\u001b[39m \u001b[43mmarkers\u001b[49m\u001b[43m[\u001b[49m\u001b[43mindex\u001b[49m\u001b[43m]\u001b[49m, markerfacecolor \u001b[38;5;241m=\u001b[39m \u001b[38;5;124m'\u001b[39m\u001b[38;5;124mNone\u001b[39m\u001b[38;5;124m'\u001b[39m, markersize \u001b[38;5;241m=\u001b[39m \u001b[38;5;241m10\u001b[39m \u001b[38;5;28;01mif\u001b[39;00m markers[index]\u001b[38;5;241m==\u001b[39m\u001b[38;5;124m'\u001b[39m\u001b[38;5;124m|\u001b[39m\u001b[38;5;124m'\u001b[39m \u001b[38;5;28;01melse\u001b[39;00m \u001b[38;5;241m6\u001b[39m, markeredgewidth \u001b[38;5;241m=\u001b[39m \u001b[38;5;241m2.1\u001b[39m, markevery \u001b[38;5;241m=\u001b[39m \u001b[38;5;241m4\u001b[39m)\n\u001b[0;32m     24\u001b[0m \u001b[38;5;66;03m# plt.plot([s for s in smooth.index][::15], [s for s in smooth.values][::15], linestyle = 'None',\u001b[39;00m\n\u001b[0;32m     25\u001b[0m \u001b[38;5;66;03m#         marker = markers[index], color = line[0].get_color(), markerfacecolor = 'None', markersize=8, markeredgewidth = 1.5)\u001b[39;00m\n\u001b[0;32m     26\u001b[0m index \u001b[38;5;241m+\u001b[39m\u001b[38;5;241m=\u001b[39m \u001b[38;5;241m1\u001b[39m\n",
      "\u001b[1;31mIndexError\u001b[0m: list index out of range"
     ]
    },
    {
     "data": {
      "image/png": "[encoded data removed]",
      "text/plain": [
       "<Figure size 750x600 with 1 Axes>"
      ]
     },
     "metadata": {},
     "output_type": "display_data"
    }
   ],
   "source": [
    "dataset_name = 'cifar10'\n",
    "ratio ='1 / 12'\n",
    "channel = 'AWGN'\n",
    "plot_snr(dataset_name, ratio, ea, channel)"
   ]
  },
  {
   "cell_type": "code",
   "execution_count": null,
   "metadata": {},
   "outputs": [],
   "source": [
    "dataset_name = 'cifar10'\n",
    "ratio ='1 / 6'\n",
    "channel = 'AWGN'\n",
    "plot_snr(dataset_name, ratio, ea, channel)"
   ]
  },
  {
   "cell_type": "code",
   "execution_count": null,
   "metadata": {},
   "outputs": [],
   "source": [
    "dataset_name = 'cifar10'\n",
    "ratio ='1 / 6'\n",
    "channel = 'Rayleigh'\n",
    "plot_snr(dataset_name, ratio, ea, channel, alpha = 0.3)"
   ]
  },
  {
   "cell_type": "code",
   "execution_count": null,
   "metadata": {},
   "outputs": [],
   "source": [
    "dataset_name = 'cifar10'\n",
    "ratio ='1 / 3'\n",
    "channel = 'Rayleigh'\n",
    "plot_snr(dataset_name, ratio, ea, channel, alpha = 0.3)"
   ]
  }
 ],
 "metadata": {
  "kernelspec": {
   "display_name": "base",
   "language": "python",
   "name": "python3"
  },
  "language_info": {
   "codemirror_mode": {
    "name": "ipython",
    "version": 3
   },
   "file_extension": ".py",
   "mimetype": "text/x-python",
   "name": "python",
   "nbconvert_exporter": "python",
   "pygments_lexer": "ipython3",
   "version": "3.10.9"
  }
 },
 "nbformat": 4,
 "nbformat_minor": 4
}
